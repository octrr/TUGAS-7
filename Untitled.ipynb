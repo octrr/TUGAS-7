{
 "cells": [
  {
   "cell_type": "code",
   "execution_count": 7,
   "id": "9b6bc44f",
   "metadata": {},
   "outputs": [
    {
     "name": "stdout",
     "output_type": "stream",
     "text": [
      "masukan teks :hari ini saya kuliah\n",
      "hasil :  hailuk ayas ini irah\n"
     ]
    }
   ],
   "source": [
    "def pembalik(teks):\n",
    "    list = []\n",
    "    hasil = ''\n",
    "    for i in range (len(teks)) :\n",
    "        list.append(teks[i])\n",
    "    while list != [] :\n",
    "        hasil += list.pop()\n",
    "    return hasil \n",
    "a = input(\"masukan teks :\")\n",
    "print(\"hasil : \", pembalik (a))"
   ]
  },
  {
   "cell_type": "code",
   "execution_count": null,
   "id": "71780519",
   "metadata": {},
   "outputs": [],
   "source": []
  }
 ],
 "metadata": {
  "kernelspec": {
   "display_name": "Python 3 (ipykernel)",
   "language": "python",
   "name": "python3"
  },
  "language_info": {
   "codemirror_mode": {
    "name": "ipython",
    "version": 3
   },
   "file_extension": ".py",
   "mimetype": "text/x-python",
   "name": "python",
   "nbconvert_exporter": "python",
   "pygments_lexer": "ipython3",
   "version": "3.9.12"
  }
 },
 "nbformat": 4,
 "nbformat_minor": 5
}
